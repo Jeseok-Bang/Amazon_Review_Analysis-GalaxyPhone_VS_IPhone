{
 "cells": [
  {
   "cell_type": "code",
   "execution_count": 1,
   "id": "7d6fee78",
   "metadata": {},
   "outputs": [],
   "source": [
    "import warnings\n",
    "warnings.filterwarnings(\"ignore\", category=DeprecationWarning)"
   ]
  },
  {
   "cell_type": "code",
   "execution_count": 2,
   "id": "7cbb4c0f",
   "metadata": {},
   "outputs": [],
   "source": [
    "from pathlib import Path\n",
    "import pandas as pd\n",
    "import matplotlib.pyplot as plt\n",
    "import seaborn as sns"
   ]
  },
  {
   "cell_type": "code",
   "execution_count": 3,
   "id": "38c1e96b",
   "metadata": {},
   "outputs": [],
   "source": [
    "smartphone_review = pd.read_csv('smartphone.csv', encoding = 'utf-8-sig')"
   ]
  },
  {
   "cell_type": "code",
   "execution_count": 4,
   "id": "5359b522",
   "metadata": {},
   "outputs": [
    {
     "data": {
      "image/png": "[encoded data removed]",
      "text/plain": [
       "<Figure size 432x288 with 1 Axes>"
      ]
     },
     "metadata": {},
     "output_type": "display_data"
    }
   ],
   "source": [
    "# 그래프 테마 설정\n",
    "sns.set_theme(style=\"whitegrid\", palette=\"pastel\")\n",
    "# 점수 분포\n",
    "sns.countplot(data=smartphone_review, x=\"Rating\")\n",
    "plt.show()"
   ]
  },
  {
   "cell_type": "code",
   "execution_count": 5,
   "id": "2b0c8484",
   "metadata": {},
   "outputs": [],
   "source": [
    "df_clean = smartphone_review.dropna(subset = ['Body']).copy()"
   ]
  },
  {
   "cell_type": "code",
   "execution_count": 6,
   "id": "d0d0126b",
   "metadata": {},
   "outputs": [],
   "source": [
    "# 점수 분포에서 5점이 압도적으로 많기 때문에, 5점을 positive, 4점 이하를 negative로 둠\n",
    "df_clean['Label'] = df_clean['Rating'] == 5"
   ]
  },
  {
   "cell_type": "code",
   "execution_count": 7,
   "id": "f679a119",
   "metadata": {},
   "outputs": [
    {
     "data": {
      "text/html": [
       "<div>\n",
       "<style scoped>\n",
       "    .dataframe tbody tr th:only-of-type {\n",
       "        vertical-align: middle;\n",
       "    }\n",
       "\n",
       "    .dataframe tbody tr th {\n",
       "        vertical-align: top;\n",
       "    }\n",
       "\n",
       "    .dataframe thead th {\n",
       "        text-align: right;\n",
       "    }\n",
       "</style>\n",
       "<table border=\"1\" class=\"dataframe\">\n",
       "  <thead>\n",
       "    <tr style=\"text-align: right;\">\n",
       "      <th></th>\n",
       "      <th>Product_nm</th>\n",
       "      <th>Rating</th>\n",
       "      <th>Title</th>\n",
       "      <th>Body</th>\n",
       "      <th>Product_cd</th>\n",
       "      <th>Brand</th>\n",
       "      <th>Label</th>\n",
       "    </tr>\n",
       "  </thead>\n",
       "  <tbody>\n",
       "    <tr>\n",
       "      <th>0</th>\n",
       "      <td>삼성 갤럭시 S21 플러스 5G SM-G996B/DS 256GB 8GB RAM 인터...</td>\n",
       "      <td>5.0</td>\n",
       "      <td>Esta hermoso pero no fue compatible con mi ope...</td>\n",
       "      <td>Esta hermoso pero no fue compatible con mi ope...</td>\n",
       "      <td>B08QXW1TXX</td>\n",
       "      <td>Samsung</td>\n",
       "      <td>True</td>\n",
       "    </tr>\n",
       "    <tr>\n",
       "      <th>1</th>\n",
       "      <td>삼성 갤럭시 S21 플러스 5G SM-G996B/DS 256GB 8GB RAM 인터...</td>\n",
       "      <td>1.0</td>\n",
       "      <td>FALSE ADVERTISEMENT</td>\n",
       "      <td>The phone was advertised as....\"This phone wil...</td>\n",
       "      <td>B08QXW1TXX</td>\n",
       "      <td>Samsung</td>\n",
       "      <td>False</td>\n",
       "    </tr>\n",
       "    <tr>\n",
       "      <th>2</th>\n",
       "      <td>삼성 갤럭시 S21 플러스 5G SM-G996B/DS 256GB 8GB RAM 인터...</td>\n",
       "      <td>4.0</td>\n",
       "      <td>\"B\" version - not compatible with AT&amp;T</td>\n",
       "      <td>Did not have a chance to use it. Not working w...</td>\n",
       "      <td>B08QXW1TXX</td>\n",
       "      <td>Samsung</td>\n",
       "      <td>False</td>\n",
       "    </tr>\n",
       "    <tr>\n",
       "      <th>3</th>\n",
       "      <td>삼성 갤럭시 S21 플러스 5G SM-G996B/DS 256GB 8GB RAM 인터...</td>\n",
       "      <td>5.0</td>\n",
       "      <td>So happy with the phone, as good as I expected...</td>\n",
       "      <td>I bought this for my girl, an she is so happy ...</td>\n",
       "      <td>B08QXW1TXX</td>\n",
       "      <td>Samsung</td>\n",
       "      <td>True</td>\n",
       "    </tr>\n",
       "    <tr>\n",
       "      <th>4</th>\n",
       "      <td>삼성 갤럭시 S21 플러스 5G SM-G996B/DS 256GB 8GB RAM 인터...</td>\n",
       "      <td>1.0</td>\n",
       "      <td>This \"International\" Version is not covered by...</td>\n",
       "      <td>After 5 months, the defective screen just stop...</td>\n",
       "      <td>B08QXW1TXX</td>\n",
       "      <td>Samsung</td>\n",
       "      <td>False</td>\n",
       "    </tr>\n",
       "  </tbody>\n",
       "</table>\n",
       "</div>"
      ],
      "text/plain": [
       "                                          Product_nm  Rating  \\\n",
       "0  삼성 갤럭시 S21 플러스 5G SM-G996B/DS 256GB 8GB RAM 인터...     5.0   \n",
       "1  삼성 갤럭시 S21 플러스 5G SM-G996B/DS 256GB 8GB RAM 인터...     1.0   \n",
       "2  삼성 갤럭시 S21 플러스 5G SM-G996B/DS 256GB 8GB RAM 인터...     4.0   \n",
       "3  삼성 갤럭시 S21 플러스 5G SM-G996B/DS 256GB 8GB RAM 인터...     5.0   \n",
       "4  삼성 갤럭시 S21 플러스 5G SM-G996B/DS 256GB 8GB RAM 인터...     1.0   \n",
       "\n",
       "                                               Title  \\\n",
       "0  Esta hermoso pero no fue compatible con mi ope...   \n",
       "1                                FALSE ADVERTISEMENT   \n",
       "2             \"B\" version - not compatible with AT&T   \n",
       "3  So happy with the phone, as good as I expected...   \n",
       "4  This \"International\" Version is not covered by...   \n",
       "\n",
       "                                                Body  Product_cd    Brand  \\\n",
       "0  Esta hermoso pero no fue compatible con mi ope...  B08QXW1TXX  Samsung   \n",
       "1  The phone was advertised as....\"This phone wil...  B08QXW1TXX  Samsung   \n",
       "2  Did not have a chance to use it. Not working w...  B08QXW1TXX  Samsung   \n",
       "3  I bought this for my girl, an she is so happy ...  B08QXW1TXX  Samsung   \n",
       "4  After 5 months, the defective screen just stop...  B08QXW1TXX  Samsung   \n",
       "\n",
       "   Label  \n",
       "0   True  \n",
       "1  False  \n",
       "2  False  \n",
       "3   True  \n",
       "4  False  "
      ]
     },
     "execution_count": 7,
     "metadata": {},
     "output_type": "execute_result"
    }
   ],
   "source": [
    "df_clean.head()"
   ]
  },
  {
   "cell_type": "markdown",
   "id": "a287d765",
   "metadata": {
    "id": "4iRE7kha6N9S"
   },
   "source": [
    "# 텍스트 전처리"
   ]
  },
  {
   "cell_type": "code",
   "execution_count": 8,
   "id": "01b51fb6",
   "metadata": {
    "executionInfo": {
     "elapsed": 1525,
     "status": "ok",
     "timestamp": 1639384760172,
     "user": {
      "displayName": "Yongrae Jo",
      "photoUrl": "https://lh3.googleusercontent.com/a/default-user=s64",
      "userId": "09263330491058379356"
     },
     "user_tz": -540
    },
    "id": "THMLguDsM3LD"
   },
   "outputs": [],
   "source": [
    "import spacy\n",
    "from collections import Counter\n",
    "import math\n",
    "from tqdm import tqdm"
   ]
  },
  {
   "cell_type": "code",
   "execution_count": 9,
   "id": "57722571",
   "metadata": {},
   "outputs": [],
   "source": [
    "nlp = spacy.load(\"en_core_web_sm\")"
   ]
  },
  {
   "cell_type": "code",
   "execution_count": 10,
   "id": "bd80ed98",
   "metadata": {},
   "outputs": [
    {
     "name": "stderr",
     "output_type": "stream",
     "text": [
      "105535it [05:59, 293.21it/s]\n"
     ]
    }
   ],
   "source": [
    "tokens_normalized = []\n",
    "for doc in tqdm(nlp.pipe(df_clean['Body'].str.lower())):\n",
    "    lemmas = [token.lemma_ for token in doc if not token.is_punct and not token.is_space]\n",
    "    tokens_normalized.append(lemmas)"
   ]
  },
  {
   "cell_type": "markdown",
   "id": "f1ecaa69",
   "metadata": {
    "id": "vVAJ5YIFmlGR"
   },
   "source": [
    "**Phrase modeling (bigram & trigram)**"
   ]
  },
  {
   "cell_type": "code",
   "execution_count": 11,
   "id": "c837434c",
   "metadata": {},
   "outputs": [
    {
     "name": "stderr",
     "output_type": "stream",
     "text": [
      "C:\\Users\\82109\\anaconda3\\envs\\pytorch\\lib\\site-packages\\gensim\\similarities\\__init__.py:15: UserWarning: The gensim.similarities.levenshtein submodule is disabled, because the optional Levenshtein package <https://pypi.org/project/python-Levenshtein/> is unavailable. Install Levenhstein (e.g. `pip install python-Levenshtein`) to suppress this warning.\n",
      "  warnings.warn(msg)\n"
     ]
    }
   ],
   "source": [
    "from gensim.models.phrases import Phrases, Phraser"
   ]
  },
  {
   "cell_type": "code",
   "execution_count": 12,
   "id": "cb2b2ce7",
   "metadata": {},
   "outputs": [],
   "source": [
    "bigram_model = Phrases(tokens_normalized)\n",
    "bigram_phraser = Phraser(bigram_model)"
   ]
  },
  {
   "cell_type": "code",
   "execution_count": 13,
   "id": "f93087c9",
   "metadata": {},
   "outputs": [],
   "source": [
    "tokens_bigram = []\n",
    "for s in tokens_normalized:\n",
    "    bigram_phrases = bigram_phraser[s]\n",
    "    tokens_bigram.append(bigram_phrases)"
   ]
  },
  {
   "cell_type": "code",
   "execution_count": 14,
   "id": "152a8ea9",
   "metadata": {},
   "outputs": [],
   "source": [
    "trigram_model = Phrases(tokens_bigram)\n",
    "trigram_phraser = Phraser(trigram_model)"
   ]
  },
  {
   "cell_type": "code",
   "execution_count": 15,
   "id": "d9318cd3",
   "metadata": {},
   "outputs": [],
   "source": [
    "tokens_trigram = []\n",
    "for s in tokens_bigram:\n",
    "    trigram_phrases = trigram_phraser[s]\n",
    "    trigram_phrases = [token for token in trigram_phrases if token not in nlp.Defaults.stop_words and token != '-PRON-']\n",
    "    tokens_trigram.append(trigram_phrases)"
   ]
  },
  {
   "cell_type": "code",
   "execution_count": 16,
   "id": "4fa49fd2",
   "metadata": {},
   "outputs": [],
   "source": [
    "preprocessed_sentences = []\n",
    "for s in tokens_trigram:\n",
    "    preprocessed_sentences.append(' '.join(s))"
   ]
  },
  {
   "cell_type": "code",
   "execution_count": 17,
   "id": "8a562d06",
   "metadata": {},
   "outputs": [],
   "source": [
    "df_clean['Reviews Preprocessed'] = preprocessed_sentences"
   ]
  },
  {
   "cell_type": "code",
   "execution_count": 18,
   "id": "4e1721d8",
   "metadata": {
    "executionInfo": {
     "elapsed": 12,
     "status": "ok",
     "timestamp": 1639384933871,
     "user": {
      "displayName": "Yongrae Jo",
      "photoUrl": "https://lh3.googleusercontent.com/a/default-user=s64",
      "userId": "09263330491058379356"
     },
     "user_tz": -540
    },
    "id": "tGzV360a6hag"
   },
   "outputs": [],
   "source": [
    "# 학습용과 테스트용 데이터 나누기\n",
    "from sklearn.model_selection import train_test_split\n",
    "df_train, df_test = train_test_split(df_clean, random_state=0)"
   ]
  },
  {
   "cell_type": "code",
   "execution_count": 19,
   "id": "cd059d0b",
   "metadata": {},
   "outputs": [],
   "source": [
    "def preprocess_text(text):\n",
    "    text = text.lower()\n",
    "    doc = nlp(text)\n",
    "    lemmas = [token.lemma_ for token in doc if not token.is_punct and not token.is_space]\n",
    "    bigrams = bigram_phraser[lemmas]\n",
    "    trigrams = trigram_phraser[bigrams]\n",
    "    tokens_normalized = [lemma for lemma in trigrams if lemma not in nlp.Defaults.stop_words and lemma != '-PRON-']\n",
    "    return tokens_normalized"
   ]
  },
  {
   "cell_type": "markdown",
   "id": "2c10e279",
   "metadata": {},
   "source": [
    "## 로지스틱 회귀 감성분석"
   ]
  },
  {
   "cell_type": "code",
   "execution_count": 20,
   "id": "e3c67105",
   "metadata": {},
   "outputs": [],
   "source": [
    "from sklearn.feature_extraction.text import CountVectorizer\n",
    "vect = CountVectorizer()"
   ]
  },
  {
   "cell_type": "code",
   "execution_count": 21,
   "id": "42b6a8f2",
   "metadata": {},
   "outputs": [],
   "source": [
    "# 사전(vocabulary) 학습\n",
    "# document-term matrix를 만드는 데 사용됨\n",
    "vect.fit(df_train['Reviews Preprocessed'])\n",
    "X_train_dtm = vect.transform(df_train['Reviews Preprocessed'])"
   ]
  },
  {
   "cell_type": "code",
   "execution_count": 22,
   "id": "09b9b85e",
   "metadata": {},
   "outputs": [
    {
     "data": {
      "text/plain": [
       "<26384x36536 sparse matrix of type '<class 'numpy.int64'>'\n",
       "\twith 368282 stored elements in Compressed Sparse Row format>"
      ]
     },
     "execution_count": 22,
     "metadata": {},
     "output_type": "execute_result"
    }
   ],
   "source": [
    "# 테스트 데이터를 document-term matrix로 바꾸기 (학습된 사전 활용)\n",
    "X_test_dtm = vect.transform(df_test['Reviews Preprocessed'])\n",
    "X_test_dtm"
   ]
  },
  {
   "cell_type": "code",
   "execution_count": 23,
   "id": "521bd2de",
   "metadata": {},
   "outputs": [],
   "source": [
    "from sklearn.linear_model import LogisticRegression\n",
    "logreg = LogisticRegression(max_iter=1000)"
   ]
  },
  {
   "cell_type": "code",
   "execution_count": 24,
   "id": "93721de0",
   "metadata": {},
   "outputs": [
    {
     "data": {
      "text/plain": [
       "LogisticRegression(max_iter=1000)"
      ]
     },
     "execution_count": 24,
     "metadata": {},
     "output_type": "execute_result"
    }
   ],
   "source": [
    "logreg.fit(X_train_dtm, df_train['Label'])"
   ]
  },
  {
   "cell_type": "code",
   "execution_count": 25,
   "id": "470e9d42",
   "metadata": {},
   "outputs": [],
   "source": [
    "# X_test_dtm에 대해 클래스 예측\n",
    "y_pred_class = logreg.predict(X_test_dtm)"
   ]
  },
  {
   "cell_type": "code",
   "execution_count": 26,
   "id": "38c434cb",
   "metadata": {},
   "outputs": [
    {
     "data": {
      "text/plain": [
       "array([0.90505277, 0.66278674, 0.86742473, ..., 0.01877788, 0.00317317,\n",
       "       0.36554134])"
      ]
     },
     "execution_count": 26,
     "metadata": {},
     "output_type": "execute_result"
    }
   ],
   "source": [
    "# X_test_dtm에 대해 확률 예측\n",
    "y_pred_prob = logreg.predict_proba(X_test_dtm)[:, 1]\n",
    "y_pred_prob"
   ]
  },
  {
   "cell_type": "code",
   "execution_count": 27,
   "id": "274efc65",
   "metadata": {},
   "outputs": [
    {
     "name": "stdout",
     "output_type": "stream",
     "text": [
      "Best and fast delivery Thank you.\n",
      "\n",
      "0.9050527731552587\n"
     ]
    }
   ],
   "source": [
    "print(df_test['Body'].iloc[0])\n",
    "print()\n",
    "print(y_pred_prob[0])"
   ]
  },
  {
   "cell_type": "code",
   "execution_count": 28,
   "id": "8031004b",
   "metadata": {},
   "outputs": [],
   "source": [
    "from sklearn.metrics import accuracy_score, roc_auc_score"
   ]
  },
  {
   "cell_type": "code",
   "execution_count": 29,
   "id": "08ff9bf9",
   "metadata": {},
   "outputs": [
    {
     "data": {
      "text/plain": [
       "0.8360369921164342"
      ]
     },
     "execution_count": 29,
     "metadata": {},
     "output_type": "execute_result"
    }
   ],
   "source": [
    "# 클래스 예측 정확도 : 약 83.6%\n",
    "accuracy_score(df_test['Label'], y_pred_class)"
   ]
  }
 ],
 "metadata": {
  "kernelspec": {
   "display_name": "PyTorch",
   "language": "python",
   "name": "pytorch"
  },
  "language_info": {
   "codemirror_mode": {
    "name": "ipython",
    "version": 3
   },
   "file_extension": ".py",
   "mimetype": "text/x-python",
   "name": "python",
   "nbconvert_exporter": "python",
   "pygments_lexer": "ipython3",
   "version": "3.9.7"
  }
 },
 "nbformat": 4,
 "nbformat_minor": 5
}
