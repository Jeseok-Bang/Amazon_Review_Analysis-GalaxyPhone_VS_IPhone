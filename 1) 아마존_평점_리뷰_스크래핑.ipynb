{
 "cells": [
  {
   "cell_type": "code",
   "execution_count": 28,
   "id": "8bd042f5",
   "metadata": {},
   "outputs": [],
   "source": [
    "from selenium import webdriver as wd\n",
    "from selenium.webdriver.support.ui import WebDriverWait\n",
    "from selenium.webdriver.support import expected_conditions as EC\n",
    "from selenium.webdriver.common.by import By\n",
    "from selenium.webdriver.common.keys import Keys\n",
    "import requests\n",
    "import re\n",
    "import time\n",
    "from selenium.webdriver.chrome.options import Options\n",
    "from bs4 import BeautifulSoup as bs\n",
    "import pandas as pd\n",
    "import os\n",
    "import numpy as np"
   ]
  },
  {
   "cell_type": "code",
   "execution_count": 2,
   "id": "59d70394",
   "metadata": {},
   "outputs": [],
   "source": [
    "chrome_options = Options()\n",
    "chrome_options.add_argument('--headless')\n",
    "chrome_options.add_argument('--no-sandbox')\n",
    "chrome_options.add_argument(\"--single-process\")\n",
    "chrome_options.add_argument(\"--disable-dev-shm-usage\")\n",
    "chrome_options.add_argument(\"--disable-gpu\")\n",
    "driver = wd.Chrome(executable_path = \"C:\\\\Users\\\\JeSeok\\\\chromedriver.exe\" ,options=chrome_options)"
   ]
  },
  {
   "cell_type": "code",
   "execution_count": 3,
   "id": "68ade4f1",
   "metadata": {},
   "outputs": [],
   "source": [
    "# 삼성 스마트폰 상품코드 모으기\n",
    "# 1) 삼성 스마트폰 검색 상품 리스트 최대 페이지수\n",
    "url = \"https://www.amazon.com/-/ko/s?k=galaxy&i=mobile&rh=n%3A7072561011%2Cp_89%3ASamsung+Electronics%2Cp_n_availability%3A2661601011%2Cp_n_feature_nineteen_browse-bin%3A9521921011&dc&language=ko&qid=1639963921&rnid=9521918011&ref=sr_nr_p_n_feature_nineteen_browse-bin_3\"\n",
    "driver.get(url)\n",
    "driver.implicitly_wait(10)\n",
    "\n",
    "res = driver.page_source\n",
    "obj = bs(res, 'html.parser')\n",
    "source = driver.page_source\n",
    "bs_obj = bs(source, \"html.parser\")\n",
    "\n",
    "# 개발자 도구 내 정보가 수시로 바뀌기 때문에 웹페이지 확인 후 하드코딩 또는 개발자 도구 확인 후 사용\n",
    "# 개발자 도구 확인 : max_page = int(bs_obj.find_all('span',{'class':'s-pagination-item s-pagination-disabled'})[0].get_text().strip())\n",
    "# 홈페이지 확인 : max_page = 19\n",
    "max_page = int(bs_obj.find_all('span',{'class':'s-pagination-item s-pagination-disabled'})[0].get_text().strip())\n",
    "\n",
    "driver.close()\n",
    "driver.quit()"
   ]
  },
  {
   "cell_type": "code",
   "execution_count": 4,
   "id": "9edc7195",
   "metadata": {},
   "outputs": [],
   "source": [
    "# 삼성 스마트폰 상품코드 모으기\n",
    "samsung_prod_cd = []\n",
    "driver = wd.Chrome(executable_path = \"C:\\\\Users\\\\JeSeok\\\\chromedriver.exe\" ,options=chrome_options)\n",
    "for i in range(1, max_page+1):\n",
    "    url = \"https://www.amazon.com/-/ko/s?k=galaxy&i=mobile&rh=n%3A7072561011%2Cp_89%3ASamsung+Electronics%2Cp_n_availability%3A2661601011%2Cp_n_feature_nineteen_browse-bin%3A9521921011&dc&language=ko&qid=1639963921&rnid=9521918011&ref=sr_nr_p_n_feature_nineteen_browse-bin_3&page={}\".format(i)\n",
    "    driver.get(url)\n",
    "    driver.implicitly_wait(10)\n",
    "    \n",
    "    time.sleep(3)\n",
    "    \n",
    "    items = WebDriverWait(driver,10).until(EC.presence_of_all_elements_located((By.XPATH, '//div[contains(@class, \"s-result-item s-asin\")]')))\n",
    "    for item in items:\n",
    "        data_asin = item.get_attribute(\"data-asin\")\n",
    "        samsung_prod_cd.append(data_asin)\n",
    "        \n",
    "driver.close()\n",
    "driver.quit()"
   ]
  },
  {
   "cell_type": "code",
   "execution_count": 5,
   "id": "018e94f8",
   "metadata": {},
   "outputs": [],
   "source": [
    "# 애플 아이폰 상품코드 모으기\n",
    "# 1) 애플 아이폰 검색 상품 리스트 최대 페이지수\n",
    "driver = wd.Chrome(executable_path = \"C:\\\\Users\\\\JeSeok\\\\chromedriver.exe\" ,options=chrome_options)\n",
    "url = \"https://www.amazon.com/-/ko/s?k=phone&i=mobile&bbn=7072561011&rh=n%3A7072561011%2Cp_89%3AApple%2Cp_n_feature_nineteen_browse-bin%3A9521921011%2Cp_n_availability%3A2661601011&s=relevancerank&dc&language=ko&qid=1640061794&rnid=2661599011&ref=sr_pg_1\"\n",
    "driver.get(url)\n",
    "driver.implicitly_wait(10)\n",
    "\n",
    "res = driver.page_source\n",
    "obj = bs(res, 'html.parser')\n",
    "source = driver.page_source\n",
    "bs_obj = bs(source, \"html.parser\")\n",
    "\n",
    "# 개발자 도구 내 정보가 수시로 바뀌기 때문에 웹페이지 확인 후 하드코딩 또는 개발자 도구 확인 후 사용\n",
    "# 개발자 도구 확인 : max_page = int(bs_obj.find_all('a',{'class':'s-pagination-item s-pagination-button'})[3].get_text().strip())\n",
    "# 홈페이지 확인 : max_page = 4\n",
    "max_page = int(bs_obj.find_all('a',{'class':'s-pagination-item s-pagination-button'})[3].get_text().strip())\n",
    "\n",
    "driver.close()\n",
    "driver.quit()"
   ]
  },
  {
   "cell_type": "code",
   "execution_count": 6,
   "id": "5c296f7b",
   "metadata": {},
   "outputs": [],
   "source": [
    "# 애플 아이폰 상품코드 모으기\n",
    "apple_prod_cd = []\n",
    "driver = wd.Chrome(executable_path = \"C:\\\\Users\\\\JeSeok\\\\chromedriver.exe\" ,options=chrome_options)\n",
    "for i in range(1, max_page+1):\n",
    "    url = \"https://www.amazon.com/-/ko/s?k=phone&i=mobile&bbn=2335752011&rh=n%3A7072561011%2Cp_89%3AApple%2Cp_n_availability%3A2661601011%2Cp_n_feature_nineteen_browse-bin%3A9521921011&s=relevancerank&dc&language=ko&qid=1639963835&rnid=9521918011&ref=sr_pg_1&page={}\".format(i)\n",
    "    driver.get(url)\n",
    "    driver.implicitly_wait(10)\n",
    "    \n",
    "    time.sleep(3)\n",
    "    \n",
    "    items = WebDriverWait(driver,10).until(EC.presence_of_all_elements_located((By.XPATH, '//div[contains(@class, \"s-result-item s-asin\")]')))\n",
    "    for item in items:\n",
    "        data_asin = item.get_attribute(\"data-asin\")\n",
    "        apple_prod_cd.append(data_asin)\n",
    "        \n",
    "driver.close()\n",
    "driver.quit()"
   ]
  },
  {
   "cell_type": "code",
   "execution_count": 7,
   "id": "30c4fd70",
   "metadata": {},
   "outputs": [],
   "source": [
    "# 코드 중복 제거\n",
    "samsung_prod_cd=list(set(samsung_prod_cd))\n",
    "apple_prod_cd=list(set(apple_prod_cd))"
   ]
  },
  {
   "cell_type": "code",
   "execution_count": 8,
   "id": "744ffbdd",
   "metadata": {},
   "outputs": [
    {
     "name": "stdout",
     "output_type": "stream",
     "text": [
      "samsung :  454 , apple :  96\n"
     ]
    }
   ],
   "source": [
    "# 각 코드 개수\n",
    "print('samsung : ', len(samsung_prod_cd), ', apple : ', len(apple_prod_cd))"
   ]
  },
  {
   "cell_type": "code",
   "execution_count": 9,
   "id": "959a4ffc",
   "metadata": {},
   "outputs": [],
   "source": [
    "# 최종 CSV파일에 포함, 미포함 상품코드 목록\n",
    "samsung_df_in_cd = []\n",
    "samsung_df_out_cd = []\n",
    "apple_df_in_cd = []\n",
    "apple_df_out_cd = []"
   ]
  },
  {
   "cell_type": "code",
   "execution_count": 10,
   "id": "2581e6bf",
   "metadata": {},
   "outputs": [],
   "source": [
    "# 리뷰, 평점 데이터 스크래핑\n",
    "def amazon_reviews(pr_cd):\n",
    "    chrome_options = Options()\n",
    "    chrome_options.add_argument('--headless')\n",
    "    chrome_options.add_argument('--no-sandbox')\n",
    "    chrome_options.add_argument(\"--single-process\")\n",
    "    chrome_options.add_argument(\"--disable-dev-shm-usage\")\n",
    "    chrome_options.add_argument(\"--disable-gpu\")\n",
    "    driver = wd.Chrome(executable_path = \"C:\\\\Users\\\\JeSeok\\\\chromedriver.exe\" ,options=chrome_options)\n",
    "    \n",
    "    url = \"https://www.amazon.com/product-reviews/{}/ref=cm_cr_getr_d_paging_btm_next_8?ie=UTF8&reviewerType=%3Dall_reviews&sortBy=recent\".format(pr_cd)\n",
    "    driver.get(url)\n",
    "    driver.implicitly_wait(10)\n",
    "    \n",
    "    res = driver.page_source\n",
    "    obj = bs(res, 'html.parser')\n",
    "    \n",
    "    # ex) rev ='1,124 글로벌 평점 | 177 글로벌 리뷰' \n",
    "    # -> int(re.findall('\\d+',rev)[1]) : 124 출력이기 때문에 ','을 빈값으로 설정\n",
    "    rev = obj.select('#filter-info-section > div > span')[0].get_text().strip().replace(',','') \n",
    "    rev = int(re.findall('\\d+',rev)[1])\n",
    "    \n",
    "    # 리뷰가 없는 경우 빈값 반환\n",
    "    if rev==0:\n",
    "        return ''\n",
    "\n",
    "    products = [] # 제품명\n",
    "    titles = [] # 리뷰 타이틀\n",
    "    stars = [] # 리뷰 평점\n",
    "    contents = [] # 리뷰 내용\n",
    "    \n",
    "    for page_num in range(1,int(np.ceil(rev/10))+1):\n",
    "        url = \"https://www.amazon.com/product-reviews/{}/ref=cm_cr_getr_d_paging_btm_next_8?ie=UTF8&reviewerType=%3Dall_reviews&sortBy=recent&pageNumber={}\".format(pr_cd,page_num)\n",
    "        driver.get(url)\n",
    "        driver.implicitly_wait(10)\n",
    "        source = driver.page_source\n",
    "        bs_obj = bs(source, \"html.parser\")\n",
    "        \n",
    "        time.sleep(3)\n",
    "\n",
    "        for i in bs_obj.findAll('a',{'data-hook':'review-title'}):\n",
    "            titles.append(i.get_text().strip())\n",
    "            \n",
    "        for i in bs_obj.findAll('span', {'data-hook':'review-body'}):\n",
    "            contents.append(i.get_text().strip())\n",
    "\n",
    "        for i in bs_obj.findAll('i',{'data-hook':'review-star-rating'}):\n",
    "            stars.append(int(i.get_text()[7]))\n",
    "    \n",
    "    # 미국 외 다른나라 리뷰만 있는 경우 빈값 반환\n",
    "    if len(titles)==0:\n",
    "        return ''\n",
    "    elif len(contents)==0:\n",
    "        return ''\n",
    "    elif len(stars)==0:\n",
    "        return ''\n",
    "    \n",
    "    for i in range(rev):\n",
    "        products.append(bs_obj.find('a',{'data-hook':'product-link'}).get_text().strip())\n",
    "    \n",
    "    driver.close()\n",
    "    driver.quit()\n",
    "    \n",
    "    products = pd.DataFrame(products)\n",
    "    stars = pd.DataFrame(stars)\n",
    "    titles = pd.DataFrame(titles)\n",
    "    contents = pd.DataFrame(contents)\n",
    "    \n",
    "    df = pd.concat([products, stars, titles, contents], axis=1).dropna()\n",
    "    df.columns = ['Product_nm','Rating','Title','Body']\n",
    "        \n",
    "    return df"
   ]
  },
  {
   "cell_type": "code",
   "execution_count": 11,
   "id": "4d30a05d",
   "metadata": {},
   "outputs": [],
   "source": [
    "samsung_df = pd.DataFrame({'Product_nm':[],\n",
    "                               'Rating':[],\n",
    "                                'Title':[],\n",
    "                                 'Body':[],\n",
    "                           'Product_cd':[]})\n",
    "apple_df = samsung_df.copy()"
   ]
  },
  {
   "cell_type": "code",
   "execution_count": 39,
   "id": "be9b0140",
   "metadata": {
    "collapsed": true
   },
   "outputs": [
    {
     "ename": "KeyboardInterrupt",
     "evalue": "",
     "output_type": "error",
     "traceback": [
      "\u001b[1;31m---------------------------------------------------------------------------\u001b[0m",
      "\u001b[1;31mKeyboardInterrupt\u001b[0m                         Traceback (most recent call last)",
      "\u001b[1;32m<ipython-input-39-97cc44341f0d>\u001b[0m in \u001b[0;36m<module>\u001b[1;34m\u001b[0m\n\u001b[0;32m      2\u001b[0m \u001b[1;31m# 데이터를 많이 추출하는 경우 예기치 못한 상황을 위하여 한 상품코드씩 파일에 저장\u001b[0m\u001b[1;33m\u001b[0m\u001b[1;33m\u001b[0m\u001b[1;33m\u001b[0m\u001b[0m\n\u001b[0;32m      3\u001b[0m \u001b[1;32mfor\u001b[0m \u001b[0mi\u001b[0m \u001b[1;32min\u001b[0m \u001b[0msamsung_prod_cd\u001b[0m\u001b[1;33m:\u001b[0m\u001b[1;33m\u001b[0m\u001b[1;33m\u001b[0m\u001b[0m\n\u001b[1;32m----> 4\u001b[1;33m     \u001b[0mdf\u001b[0m \u001b[1;33m=\u001b[0m \u001b[0mamazon_reviews\u001b[0m\u001b[1;33m(\u001b[0m\u001b[0mi\u001b[0m\u001b[1;33m)\u001b[0m\u001b[1;33m\u001b[0m\u001b[1;33m\u001b[0m\u001b[0m\n\u001b[0m\u001b[0;32m      5\u001b[0m     \u001b[1;32mif\u001b[0m \u001b[0mlen\u001b[0m\u001b[1;33m(\u001b[0m\u001b[0mdf\u001b[0m\u001b[1;33m)\u001b[0m \u001b[1;33m==\u001b[0m \u001b[1;36m0\u001b[0m\u001b[1;33m:\u001b[0m\u001b[1;33m\u001b[0m\u001b[1;33m\u001b[0m\u001b[0m\n\u001b[0;32m      6\u001b[0m         \u001b[0msamsung_df_out_cd\u001b[0m\u001b[1;33m.\u001b[0m\u001b[0mappend\u001b[0m\u001b[1;33m(\u001b[0m\u001b[0mi\u001b[0m\u001b[1;33m)\u001b[0m\u001b[1;33m\u001b[0m\u001b[1;33m\u001b[0m\u001b[0m\n",
      "\u001b[1;32m<ipython-input-14-d4034979159c>\u001b[0m in \u001b[0;36mamazon_reviews\u001b[1;34m(pr_cd)\u001b[0m\n\u001b[0;32m     34\u001b[0m         \u001b[0mdriver\u001b[0m\u001b[1;33m.\u001b[0m\u001b[0mget\u001b[0m\u001b[1;33m(\u001b[0m\u001b[0murl\u001b[0m\u001b[1;33m)\u001b[0m\u001b[1;33m\u001b[0m\u001b[1;33m\u001b[0m\u001b[0m\n\u001b[0;32m     35\u001b[0m         \u001b[0mdriver\u001b[0m\u001b[1;33m.\u001b[0m\u001b[0mimplicitly_wait\u001b[0m\u001b[1;33m(\u001b[0m\u001b[1;36m10\u001b[0m\u001b[1;33m)\u001b[0m\u001b[1;33m\u001b[0m\u001b[1;33m\u001b[0m\u001b[0m\n\u001b[1;32m---> 36\u001b[1;33m         \u001b[0msource\u001b[0m \u001b[1;33m=\u001b[0m \u001b[0mdriver\u001b[0m\u001b[1;33m.\u001b[0m\u001b[0mpage_source\u001b[0m\u001b[1;33m\u001b[0m\u001b[1;33m\u001b[0m\u001b[0m\n\u001b[0m\u001b[0;32m     37\u001b[0m         \u001b[0mbs_obj\u001b[0m \u001b[1;33m=\u001b[0m \u001b[0mbs\u001b[0m\u001b[1;33m(\u001b[0m\u001b[0msource\u001b[0m\u001b[1;33m,\u001b[0m \u001b[1;34m\"html.parser\"\u001b[0m\u001b[1;33m)\u001b[0m\u001b[1;33m\u001b[0m\u001b[1;33m\u001b[0m\u001b[0m\n\u001b[0;32m     38\u001b[0m \u001b[1;33m\u001b[0m\u001b[0m\n",
      "\u001b[1;32m~\\anaconda3\\lib\\site-packages\\selenium\\webdriver\\remote\\webdriver.py\u001b[0m in \u001b[0;36mpage_source\u001b[1;34m(self)\u001b[0m\n\u001b[0;32m    677\u001b[0m             \u001b[0mdriver\u001b[0m\u001b[1;33m.\u001b[0m\u001b[0mpage_source\u001b[0m\u001b[1;33m\u001b[0m\u001b[1;33m\u001b[0m\u001b[0m\n\u001b[0;32m    678\u001b[0m         \"\"\"\n\u001b[1;32m--> 679\u001b[1;33m         \u001b[1;32mreturn\u001b[0m \u001b[0mself\u001b[0m\u001b[1;33m.\u001b[0m\u001b[0mexecute\u001b[0m\u001b[1;33m(\u001b[0m\u001b[0mCommand\u001b[0m\u001b[1;33m.\u001b[0m\u001b[0mGET_PAGE_SOURCE\u001b[0m\u001b[1;33m)\u001b[0m\u001b[1;33m[\u001b[0m\u001b[1;34m'value'\u001b[0m\u001b[1;33m]\u001b[0m\u001b[1;33m\u001b[0m\u001b[1;33m\u001b[0m\u001b[0m\n\u001b[0m\u001b[0;32m    680\u001b[0m \u001b[1;33m\u001b[0m\u001b[0m\n\u001b[0;32m    681\u001b[0m     \u001b[1;32mdef\u001b[0m \u001b[0mclose\u001b[0m\u001b[1;33m(\u001b[0m\u001b[0mself\u001b[0m\u001b[1;33m)\u001b[0m\u001b[1;33m:\u001b[0m\u001b[1;33m\u001b[0m\u001b[1;33m\u001b[0m\u001b[0m\n",
      "\u001b[1;32m~\\anaconda3\\lib\\site-packages\\selenium\\webdriver\\remote\\webdriver.py\u001b[0m in \u001b[0;36mexecute\u001b[1;34m(self, driver_command, params)\u001b[0m\n\u001b[0;32m    317\u001b[0m \u001b[1;33m\u001b[0m\u001b[0m\n\u001b[0;32m    318\u001b[0m         \u001b[0mparams\u001b[0m \u001b[1;33m=\u001b[0m \u001b[0mself\u001b[0m\u001b[1;33m.\u001b[0m\u001b[0m_wrap_value\u001b[0m\u001b[1;33m(\u001b[0m\u001b[0mparams\u001b[0m\u001b[1;33m)\u001b[0m\u001b[1;33m\u001b[0m\u001b[1;33m\u001b[0m\u001b[0m\n\u001b[1;32m--> 319\u001b[1;33m         \u001b[0mresponse\u001b[0m \u001b[1;33m=\u001b[0m \u001b[0mself\u001b[0m\u001b[1;33m.\u001b[0m\u001b[0mcommand_executor\u001b[0m\u001b[1;33m.\u001b[0m\u001b[0mexecute\u001b[0m\u001b[1;33m(\u001b[0m\u001b[0mdriver_command\u001b[0m\u001b[1;33m,\u001b[0m \u001b[0mparams\u001b[0m\u001b[1;33m)\u001b[0m\u001b[1;33m\u001b[0m\u001b[1;33m\u001b[0m\u001b[0m\n\u001b[0m\u001b[0;32m    320\u001b[0m         \u001b[1;32mif\u001b[0m \u001b[0mresponse\u001b[0m\u001b[1;33m:\u001b[0m\u001b[1;33m\u001b[0m\u001b[1;33m\u001b[0m\u001b[0m\n\u001b[0;32m    321\u001b[0m             \u001b[0mself\u001b[0m\u001b[1;33m.\u001b[0m\u001b[0merror_handler\u001b[0m\u001b[1;33m.\u001b[0m\u001b[0mcheck_response\u001b[0m\u001b[1;33m(\u001b[0m\u001b[0mresponse\u001b[0m\u001b[1;33m)\u001b[0m\u001b[1;33m\u001b[0m\u001b[1;33m\u001b[0m\u001b[0m\n",
      "\u001b[1;32m~\\anaconda3\\lib\\site-packages\\selenium\\webdriver\\remote\\remote_connection.py\u001b[0m in \u001b[0;36mexecute\u001b[1;34m(self, command, params)\u001b[0m\n\u001b[0;32m    372\u001b[0m         \u001b[0mdata\u001b[0m \u001b[1;33m=\u001b[0m \u001b[0mutils\u001b[0m\u001b[1;33m.\u001b[0m\u001b[0mdump_json\u001b[0m\u001b[1;33m(\u001b[0m\u001b[0mparams\u001b[0m\u001b[1;33m)\u001b[0m\u001b[1;33m\u001b[0m\u001b[1;33m\u001b[0m\u001b[0m\n\u001b[0;32m    373\u001b[0m         \u001b[0murl\u001b[0m \u001b[1;33m=\u001b[0m \u001b[1;34m'%s%s'\u001b[0m \u001b[1;33m%\u001b[0m \u001b[1;33m(\u001b[0m\u001b[0mself\u001b[0m\u001b[1;33m.\u001b[0m\u001b[0m_url\u001b[0m\u001b[1;33m,\u001b[0m \u001b[0mpath\u001b[0m\u001b[1;33m)\u001b[0m\u001b[1;33m\u001b[0m\u001b[1;33m\u001b[0m\u001b[0m\n\u001b[1;32m--> 374\u001b[1;33m         \u001b[1;32mreturn\u001b[0m \u001b[0mself\u001b[0m\u001b[1;33m.\u001b[0m\u001b[0m_request\u001b[0m\u001b[1;33m(\u001b[0m\u001b[0mcommand_info\u001b[0m\u001b[1;33m[\u001b[0m\u001b[1;36m0\u001b[0m\u001b[1;33m]\u001b[0m\u001b[1;33m,\u001b[0m \u001b[0murl\u001b[0m\u001b[1;33m,\u001b[0m \u001b[0mbody\u001b[0m\u001b[1;33m=\u001b[0m\u001b[0mdata\u001b[0m\u001b[1;33m)\u001b[0m\u001b[1;33m\u001b[0m\u001b[1;33m\u001b[0m\u001b[0m\n\u001b[0m\u001b[0;32m    375\u001b[0m \u001b[1;33m\u001b[0m\u001b[0m\n\u001b[0;32m    376\u001b[0m     \u001b[1;32mdef\u001b[0m \u001b[0m_request\u001b[0m\u001b[1;33m(\u001b[0m\u001b[0mself\u001b[0m\u001b[1;33m,\u001b[0m \u001b[0mmethod\u001b[0m\u001b[1;33m,\u001b[0m \u001b[0murl\u001b[0m\u001b[1;33m,\u001b[0m \u001b[0mbody\u001b[0m\u001b[1;33m=\u001b[0m\u001b[1;32mNone\u001b[0m\u001b[1;33m)\u001b[0m\u001b[1;33m:\u001b[0m\u001b[1;33m\u001b[0m\u001b[1;33m\u001b[0m\u001b[0m\n",
      "\u001b[1;32m~\\anaconda3\\lib\\site-packages\\selenium\\webdriver\\remote\\remote_connection.py\u001b[0m in \u001b[0;36m_request\u001b[1;34m(self, method, url, body)\u001b[0m\n\u001b[0;32m    395\u001b[0m \u001b[1;33m\u001b[0m\u001b[0m\n\u001b[0;32m    396\u001b[0m         \u001b[1;32mif\u001b[0m \u001b[0mself\u001b[0m\u001b[1;33m.\u001b[0m\u001b[0mkeep_alive\u001b[0m\u001b[1;33m:\u001b[0m\u001b[1;33m\u001b[0m\u001b[1;33m\u001b[0m\u001b[0m\n\u001b[1;32m--> 397\u001b[1;33m             \u001b[0mresp\u001b[0m \u001b[1;33m=\u001b[0m \u001b[0mself\u001b[0m\u001b[1;33m.\u001b[0m\u001b[0m_conn\u001b[0m\u001b[1;33m.\u001b[0m\u001b[0mrequest\u001b[0m\u001b[1;33m(\u001b[0m\u001b[0mmethod\u001b[0m\u001b[1;33m,\u001b[0m \u001b[0murl\u001b[0m\u001b[1;33m,\u001b[0m \u001b[0mbody\u001b[0m\u001b[1;33m=\u001b[0m\u001b[0mbody\u001b[0m\u001b[1;33m,\u001b[0m \u001b[0mheaders\u001b[0m\u001b[1;33m=\u001b[0m\u001b[0mheaders\u001b[0m\u001b[1;33m)\u001b[0m\u001b[1;33m\u001b[0m\u001b[1;33m\u001b[0m\u001b[0m\n\u001b[0m\u001b[0;32m    398\u001b[0m \u001b[1;33m\u001b[0m\u001b[0m\n\u001b[0;32m    399\u001b[0m             \u001b[0mstatuscode\u001b[0m \u001b[1;33m=\u001b[0m \u001b[0mresp\u001b[0m\u001b[1;33m.\u001b[0m\u001b[0mstatus\u001b[0m\u001b[1;33m\u001b[0m\u001b[1;33m\u001b[0m\u001b[0m\n",
      "\u001b[1;32m~\\anaconda3\\lib\\site-packages\\urllib3\\request.py\u001b[0m in \u001b[0;36mrequest\u001b[1;34m(self, method, url, fields, headers, **urlopen_kw)\u001b[0m\n\u001b[0;32m     72\u001b[0m \u001b[1;33m\u001b[0m\u001b[0m\n\u001b[0;32m     73\u001b[0m         \u001b[1;32mif\u001b[0m \u001b[0mmethod\u001b[0m \u001b[1;32min\u001b[0m \u001b[0mself\u001b[0m\u001b[1;33m.\u001b[0m\u001b[0m_encode_url_methods\u001b[0m\u001b[1;33m:\u001b[0m\u001b[1;33m\u001b[0m\u001b[1;33m\u001b[0m\u001b[0m\n\u001b[1;32m---> 74\u001b[1;33m             return self.request_encode_url(\n\u001b[0m\u001b[0;32m     75\u001b[0m                 \u001b[0mmethod\u001b[0m\u001b[1;33m,\u001b[0m \u001b[0murl\u001b[0m\u001b[1;33m,\u001b[0m \u001b[0mfields\u001b[0m\u001b[1;33m=\u001b[0m\u001b[0mfields\u001b[0m\u001b[1;33m,\u001b[0m \u001b[0mheaders\u001b[0m\u001b[1;33m=\u001b[0m\u001b[0mheaders\u001b[0m\u001b[1;33m,\u001b[0m \u001b[1;33m**\u001b[0m\u001b[0murlopen_kw\u001b[0m\u001b[1;33m\u001b[0m\u001b[1;33m\u001b[0m\u001b[0m\n\u001b[0;32m     76\u001b[0m             )\n",
      "\u001b[1;32m~\\anaconda3\\lib\\site-packages\\urllib3\\request.py\u001b[0m in \u001b[0;36mrequest_encode_url\u001b[1;34m(self, method, url, fields, headers, **urlopen_kw)\u001b[0m\n\u001b[0;32m     94\u001b[0m             \u001b[0murl\u001b[0m \u001b[1;33m+=\u001b[0m \u001b[1;34m\"?\"\u001b[0m \u001b[1;33m+\u001b[0m \u001b[0murlencode\u001b[0m\u001b[1;33m(\u001b[0m\u001b[0mfields\u001b[0m\u001b[1;33m)\u001b[0m\u001b[1;33m\u001b[0m\u001b[1;33m\u001b[0m\u001b[0m\n\u001b[0;32m     95\u001b[0m \u001b[1;33m\u001b[0m\u001b[0m\n\u001b[1;32m---> 96\u001b[1;33m         \u001b[1;32mreturn\u001b[0m \u001b[0mself\u001b[0m\u001b[1;33m.\u001b[0m\u001b[0murlopen\u001b[0m\u001b[1;33m(\u001b[0m\u001b[0mmethod\u001b[0m\u001b[1;33m,\u001b[0m \u001b[0murl\u001b[0m\u001b[1;33m,\u001b[0m \u001b[1;33m**\u001b[0m\u001b[0mextra_kw\u001b[0m\u001b[1;33m)\u001b[0m\u001b[1;33m\u001b[0m\u001b[1;33m\u001b[0m\u001b[0m\n\u001b[0m\u001b[0;32m     97\u001b[0m \u001b[1;33m\u001b[0m\u001b[0m\n\u001b[0;32m     98\u001b[0m     def request_encode_body(\n",
      "\u001b[1;32m~\\anaconda3\\lib\\site-packages\\urllib3\\poolmanager.py\u001b[0m in \u001b[0;36murlopen\u001b[1;34m(self, method, url, redirect, **kw)\u001b[0m\n\u001b[0;32m    373\u001b[0m             \u001b[0mresponse\u001b[0m \u001b[1;33m=\u001b[0m \u001b[0mconn\u001b[0m\u001b[1;33m.\u001b[0m\u001b[0murlopen\u001b[0m\u001b[1;33m(\u001b[0m\u001b[0mmethod\u001b[0m\u001b[1;33m,\u001b[0m \u001b[0murl\u001b[0m\u001b[1;33m,\u001b[0m \u001b[1;33m**\u001b[0m\u001b[0mkw\u001b[0m\u001b[1;33m)\u001b[0m\u001b[1;33m\u001b[0m\u001b[1;33m\u001b[0m\u001b[0m\n\u001b[0;32m    374\u001b[0m         \u001b[1;32melse\u001b[0m\u001b[1;33m:\u001b[0m\u001b[1;33m\u001b[0m\u001b[1;33m\u001b[0m\u001b[0m\n\u001b[1;32m--> 375\u001b[1;33m             \u001b[0mresponse\u001b[0m \u001b[1;33m=\u001b[0m \u001b[0mconn\u001b[0m\u001b[1;33m.\u001b[0m\u001b[0murlopen\u001b[0m\u001b[1;33m(\u001b[0m\u001b[0mmethod\u001b[0m\u001b[1;33m,\u001b[0m \u001b[0mu\u001b[0m\u001b[1;33m.\u001b[0m\u001b[0mrequest_uri\u001b[0m\u001b[1;33m,\u001b[0m \u001b[1;33m**\u001b[0m\u001b[0mkw\u001b[0m\u001b[1;33m)\u001b[0m\u001b[1;33m\u001b[0m\u001b[1;33m\u001b[0m\u001b[0m\n\u001b[0m\u001b[0;32m    376\u001b[0m \u001b[1;33m\u001b[0m\u001b[0m\n\u001b[0;32m    377\u001b[0m         \u001b[0mredirect_location\u001b[0m \u001b[1;33m=\u001b[0m \u001b[0mredirect\u001b[0m \u001b[1;32mand\u001b[0m \u001b[0mresponse\u001b[0m\u001b[1;33m.\u001b[0m\u001b[0mget_redirect_location\u001b[0m\u001b[1;33m(\u001b[0m\u001b[1;33m)\u001b[0m\u001b[1;33m\u001b[0m\u001b[1;33m\u001b[0m\u001b[0m\n",
      "\u001b[1;32m~\\anaconda3\\lib\\site-packages\\urllib3\\connectionpool.py\u001b[0m in \u001b[0;36murlopen\u001b[1;34m(self, method, url, body, headers, retries, redirect, assert_same_host, timeout, pool_timeout, release_conn, chunked, body_pos, **response_kw)\u001b[0m\n\u001b[0;32m    697\u001b[0m \u001b[1;33m\u001b[0m\u001b[0m\n\u001b[0;32m    698\u001b[0m             \u001b[1;31m# Make the request on the httplib connection object.\u001b[0m\u001b[1;33m\u001b[0m\u001b[1;33m\u001b[0m\u001b[1;33m\u001b[0m\u001b[0m\n\u001b[1;32m--> 699\u001b[1;33m             httplib_response = self._make_request(\n\u001b[0m\u001b[0;32m    700\u001b[0m                 \u001b[0mconn\u001b[0m\u001b[1;33m,\u001b[0m\u001b[1;33m\u001b[0m\u001b[1;33m\u001b[0m\u001b[0m\n\u001b[0;32m    701\u001b[0m                 \u001b[0mmethod\u001b[0m\u001b[1;33m,\u001b[0m\u001b[1;33m\u001b[0m\u001b[1;33m\u001b[0m\u001b[0m\n",
      "\u001b[1;32m~\\anaconda3\\lib\\site-packages\\urllib3\\connectionpool.py\u001b[0m in \u001b[0;36m_make_request\u001b[1;34m(self, conn, method, url, timeout, chunked, **httplib_request_kw)\u001b[0m\n\u001b[0;32m    443\u001b[0m                     \u001b[1;31m# Python 3 (including for exceptions like SystemExit).\u001b[0m\u001b[1;33m\u001b[0m\u001b[1;33m\u001b[0m\u001b[1;33m\u001b[0m\u001b[0m\n\u001b[0;32m    444\u001b[0m                     \u001b[1;31m# Otherwise it looks like a bug in the code.\u001b[0m\u001b[1;33m\u001b[0m\u001b[1;33m\u001b[0m\u001b[1;33m\u001b[0m\u001b[0m\n\u001b[1;32m--> 445\u001b[1;33m                     \u001b[0msix\u001b[0m\u001b[1;33m.\u001b[0m\u001b[0mraise_from\u001b[0m\u001b[1;33m(\u001b[0m\u001b[0me\u001b[0m\u001b[1;33m,\u001b[0m \u001b[1;32mNone\u001b[0m\u001b[1;33m)\u001b[0m\u001b[1;33m\u001b[0m\u001b[1;33m\u001b[0m\u001b[0m\n\u001b[0m\u001b[0;32m    446\u001b[0m         \u001b[1;32mexcept\u001b[0m \u001b[1;33m(\u001b[0m\u001b[0mSocketTimeout\u001b[0m\u001b[1;33m,\u001b[0m \u001b[0mBaseSSLError\u001b[0m\u001b[1;33m,\u001b[0m \u001b[0mSocketError\u001b[0m\u001b[1;33m)\u001b[0m \u001b[1;32mas\u001b[0m \u001b[0me\u001b[0m\u001b[1;33m:\u001b[0m\u001b[1;33m\u001b[0m\u001b[1;33m\u001b[0m\u001b[0m\n\u001b[0;32m    447\u001b[0m             \u001b[0mself\u001b[0m\u001b[1;33m.\u001b[0m\u001b[0m_raise_timeout\u001b[0m\u001b[1;33m(\u001b[0m\u001b[0merr\u001b[0m\u001b[1;33m=\u001b[0m\u001b[0me\u001b[0m\u001b[1;33m,\u001b[0m \u001b[0murl\u001b[0m\u001b[1;33m=\u001b[0m\u001b[0murl\u001b[0m\u001b[1;33m,\u001b[0m \u001b[0mtimeout_value\u001b[0m\u001b[1;33m=\u001b[0m\u001b[0mread_timeout\u001b[0m\u001b[1;33m)\u001b[0m\u001b[1;33m\u001b[0m\u001b[1;33m\u001b[0m\u001b[0m\n",
      "\u001b[1;32m~\\anaconda3\\lib\\site-packages\\urllib3\\packages\\six.py\u001b[0m in \u001b[0;36mraise_from\u001b[1;34m(value, from_value)\u001b[0m\n",
      "\u001b[1;32m~\\anaconda3\\lib\\site-packages\\urllib3\\connectionpool.py\u001b[0m in \u001b[0;36m_make_request\u001b[1;34m(self, conn, method, url, timeout, chunked, **httplib_request_kw)\u001b[0m\n\u001b[0;32m    438\u001b[0m                 \u001b[1;31m# Python 3\u001b[0m\u001b[1;33m\u001b[0m\u001b[1;33m\u001b[0m\u001b[1;33m\u001b[0m\u001b[0m\n\u001b[0;32m    439\u001b[0m                 \u001b[1;32mtry\u001b[0m\u001b[1;33m:\u001b[0m\u001b[1;33m\u001b[0m\u001b[1;33m\u001b[0m\u001b[0m\n\u001b[1;32m--> 440\u001b[1;33m                     \u001b[0mhttplib_response\u001b[0m \u001b[1;33m=\u001b[0m \u001b[0mconn\u001b[0m\u001b[1;33m.\u001b[0m\u001b[0mgetresponse\u001b[0m\u001b[1;33m(\u001b[0m\u001b[1;33m)\u001b[0m\u001b[1;33m\u001b[0m\u001b[1;33m\u001b[0m\u001b[0m\n\u001b[0m\u001b[0;32m    441\u001b[0m                 \u001b[1;32mexcept\u001b[0m \u001b[0mBaseException\u001b[0m \u001b[1;32mas\u001b[0m \u001b[0me\u001b[0m\u001b[1;33m:\u001b[0m\u001b[1;33m\u001b[0m\u001b[1;33m\u001b[0m\u001b[0m\n\u001b[0;32m    442\u001b[0m                     \u001b[1;31m# Remove the TypeError from the exception chain in\u001b[0m\u001b[1;33m\u001b[0m\u001b[1;33m\u001b[0m\u001b[1;33m\u001b[0m\u001b[0m\n",
      "\u001b[1;32m~\\anaconda3\\lib\\http\\client.py\u001b[0m in \u001b[0;36mgetresponse\u001b[1;34m(self)\u001b[0m\n\u001b[0;32m   1345\u001b[0m         \u001b[1;32mtry\u001b[0m\u001b[1;33m:\u001b[0m\u001b[1;33m\u001b[0m\u001b[1;33m\u001b[0m\u001b[0m\n\u001b[0;32m   1346\u001b[0m             \u001b[1;32mtry\u001b[0m\u001b[1;33m:\u001b[0m\u001b[1;33m\u001b[0m\u001b[1;33m\u001b[0m\u001b[0m\n\u001b[1;32m-> 1347\u001b[1;33m                 \u001b[0mresponse\u001b[0m\u001b[1;33m.\u001b[0m\u001b[0mbegin\u001b[0m\u001b[1;33m(\u001b[0m\u001b[1;33m)\u001b[0m\u001b[1;33m\u001b[0m\u001b[1;33m\u001b[0m\u001b[0m\n\u001b[0m\u001b[0;32m   1348\u001b[0m             \u001b[1;32mexcept\u001b[0m \u001b[0mConnectionError\u001b[0m\u001b[1;33m:\u001b[0m\u001b[1;33m\u001b[0m\u001b[1;33m\u001b[0m\u001b[0m\n\u001b[0;32m   1349\u001b[0m                 \u001b[0mself\u001b[0m\u001b[1;33m.\u001b[0m\u001b[0mclose\u001b[0m\u001b[1;33m(\u001b[0m\u001b[1;33m)\u001b[0m\u001b[1;33m\u001b[0m\u001b[1;33m\u001b[0m\u001b[0m\n",
      "\u001b[1;32m~\\anaconda3\\lib\\http\\client.py\u001b[0m in \u001b[0;36mbegin\u001b[1;34m(self)\u001b[0m\n\u001b[0;32m    305\u001b[0m         \u001b[1;31m# read until we get a non-100 response\u001b[0m\u001b[1;33m\u001b[0m\u001b[1;33m\u001b[0m\u001b[1;33m\u001b[0m\u001b[0m\n\u001b[0;32m    306\u001b[0m         \u001b[1;32mwhile\u001b[0m \u001b[1;32mTrue\u001b[0m\u001b[1;33m:\u001b[0m\u001b[1;33m\u001b[0m\u001b[1;33m\u001b[0m\u001b[0m\n\u001b[1;32m--> 307\u001b[1;33m             \u001b[0mversion\u001b[0m\u001b[1;33m,\u001b[0m \u001b[0mstatus\u001b[0m\u001b[1;33m,\u001b[0m \u001b[0mreason\u001b[0m \u001b[1;33m=\u001b[0m \u001b[0mself\u001b[0m\u001b[1;33m.\u001b[0m\u001b[0m_read_status\u001b[0m\u001b[1;33m(\u001b[0m\u001b[1;33m)\u001b[0m\u001b[1;33m\u001b[0m\u001b[1;33m\u001b[0m\u001b[0m\n\u001b[0m\u001b[0;32m    308\u001b[0m             \u001b[1;32mif\u001b[0m \u001b[0mstatus\u001b[0m \u001b[1;33m!=\u001b[0m \u001b[0mCONTINUE\u001b[0m\u001b[1;33m:\u001b[0m\u001b[1;33m\u001b[0m\u001b[1;33m\u001b[0m\u001b[0m\n\u001b[0;32m    309\u001b[0m                 \u001b[1;32mbreak\u001b[0m\u001b[1;33m\u001b[0m\u001b[1;33m\u001b[0m\u001b[0m\n",
      "\u001b[1;32m~\\anaconda3\\lib\\http\\client.py\u001b[0m in \u001b[0;36m_read_status\u001b[1;34m(self)\u001b[0m\n\u001b[0;32m    266\u001b[0m \u001b[1;33m\u001b[0m\u001b[0m\n\u001b[0;32m    267\u001b[0m     \u001b[1;32mdef\u001b[0m \u001b[0m_read_status\u001b[0m\u001b[1;33m(\u001b[0m\u001b[0mself\u001b[0m\u001b[1;33m)\u001b[0m\u001b[1;33m:\u001b[0m\u001b[1;33m\u001b[0m\u001b[1;33m\u001b[0m\u001b[0m\n\u001b[1;32m--> 268\u001b[1;33m         \u001b[0mline\u001b[0m \u001b[1;33m=\u001b[0m \u001b[0mstr\u001b[0m\u001b[1;33m(\u001b[0m\u001b[0mself\u001b[0m\u001b[1;33m.\u001b[0m\u001b[0mfp\u001b[0m\u001b[1;33m.\u001b[0m\u001b[0mreadline\u001b[0m\u001b[1;33m(\u001b[0m\u001b[0m_MAXLINE\u001b[0m \u001b[1;33m+\u001b[0m \u001b[1;36m1\u001b[0m\u001b[1;33m)\u001b[0m\u001b[1;33m,\u001b[0m \u001b[1;34m\"iso-8859-1\"\u001b[0m\u001b[1;33m)\u001b[0m\u001b[1;33m\u001b[0m\u001b[1;33m\u001b[0m\u001b[0m\n\u001b[0m\u001b[0;32m    269\u001b[0m         \u001b[1;32mif\u001b[0m \u001b[0mlen\u001b[0m\u001b[1;33m(\u001b[0m\u001b[0mline\u001b[0m\u001b[1;33m)\u001b[0m \u001b[1;33m>\u001b[0m \u001b[0m_MAXLINE\u001b[0m\u001b[1;33m:\u001b[0m\u001b[1;33m\u001b[0m\u001b[1;33m\u001b[0m\u001b[0m\n\u001b[0;32m    270\u001b[0m             \u001b[1;32mraise\u001b[0m \u001b[0mLineTooLong\u001b[0m\u001b[1;33m(\u001b[0m\u001b[1;34m\"status line\"\u001b[0m\u001b[1;33m)\u001b[0m\u001b[1;33m\u001b[0m\u001b[1;33m\u001b[0m\u001b[0m\n",
      "\u001b[1;32m~\\anaconda3\\lib\\socket.py\u001b[0m in \u001b[0;36mreadinto\u001b[1;34m(self, b)\u001b[0m\n\u001b[0;32m    667\u001b[0m         \u001b[1;32mwhile\u001b[0m \u001b[1;32mTrue\u001b[0m\u001b[1;33m:\u001b[0m\u001b[1;33m\u001b[0m\u001b[1;33m\u001b[0m\u001b[0m\n\u001b[0;32m    668\u001b[0m             \u001b[1;32mtry\u001b[0m\u001b[1;33m:\u001b[0m\u001b[1;33m\u001b[0m\u001b[1;33m\u001b[0m\u001b[0m\n\u001b[1;32m--> 669\u001b[1;33m                 \u001b[1;32mreturn\u001b[0m \u001b[0mself\u001b[0m\u001b[1;33m.\u001b[0m\u001b[0m_sock\u001b[0m\u001b[1;33m.\u001b[0m\u001b[0mrecv_into\u001b[0m\u001b[1;33m(\u001b[0m\u001b[0mb\u001b[0m\u001b[1;33m)\u001b[0m\u001b[1;33m\u001b[0m\u001b[1;33m\u001b[0m\u001b[0m\n\u001b[0m\u001b[0;32m    670\u001b[0m             \u001b[1;32mexcept\u001b[0m \u001b[0mtimeout\u001b[0m\u001b[1;33m:\u001b[0m\u001b[1;33m\u001b[0m\u001b[1;33m\u001b[0m\u001b[0m\n\u001b[0;32m    671\u001b[0m                 \u001b[0mself\u001b[0m\u001b[1;33m.\u001b[0m\u001b[0m_timeout_occurred\u001b[0m \u001b[1;33m=\u001b[0m \u001b[1;32mTrue\u001b[0m\u001b[1;33m\u001b[0m\u001b[1;33m\u001b[0m\u001b[0m\n",
      "\u001b[1;31mKeyboardInterrupt\u001b[0m: "
     ]
    }
   ],
   "source": [
    "# 삼성 갤럭시폰\n",
    "# 데이터를 많이 추출하는 경우 예기치 못한 상황을 위하여 한 상품코드씩 파일에 저장\n",
    "for i in samsung_prod_cd:\n",
    "    df = amazon_reviews(i)\n",
    "    if len(df) == 0:\n",
    "        samsung_df_out_cd.append(i)\n",
    "        pass\n",
    "    else :\n",
    "        samsung_df_in_cd.append(i)\n",
    "        samsung_df = df\n",
    "        samsung_df['Product_cd'] = i\n",
    "        samsung_df['Brand'] = 'Samsung'\n",
    "        \n",
    "        if not os.path.exists('samsung_df.csv'):\n",
    "            samsung_df.to_csv('samsung_df.csv', index=False, mode='w', encoding='utf-8-sig')\n",
    "        else :\n",
    "            samsung_df.to_csv('samsung_df.csv', index=False, mode='a', header=False, encoding='utf-8-sig')    "
   ]
  },
  {
   "cell_type": "code",
   "execution_count": 27,
   "id": "6422ec6f",
   "metadata": {},
   "outputs": [],
   "source": [
    "# 애플 아이폰\n",
    "# 데이터를 많이 추출하는 경우 예기치 못한 상황을 위하여 한 상품코드씩 파일에 저장\n",
    "for i in apple_prod_cd:\n",
    "    df = amazon_reviews(i)\n",
    "    if len(df) == 0:\n",
    "        apple_df_out_cd.append(i)\n",
    "        pass\n",
    "    else :\n",
    "        apple_df_in_cd.append(i)\n",
    "        apple_df = df\n",
    "        apple_df['Product_cd'] = i\n",
    "        apple_df['Brand'] = 'Apple'\n",
    "        \n",
    "        if not os.path.exists('apple_df.csv'):\n",
    "            apple_df.to_csv('apple_df.csv', index=False, mode='w', encoding='utf-8-sig')\n",
    "        else :\n",
    "            apple_df.to_csv('apple_df.csv', index=False, mode='a', header=False, encoding='utf-8-sig')   "
   ]
  },
  {
   "cell_type": "code",
   "execution_count": 30,
   "id": "0d3d9fb5",
   "metadata": {},
   "outputs": [
    {
     "data": {
      "text/html": [
       "<div>\n",
       "<style scoped>\n",
       "    .dataframe tbody tr th:only-of-type {\n",
       "        vertical-align: middle;\n",
       "    }\n",
       "\n",
       "    .dataframe tbody tr th {\n",
       "        vertical-align: top;\n",
       "    }\n",
       "\n",
       "    .dataframe thead th {\n",
       "        text-align: right;\n",
       "    }\n",
       "</style>\n",
       "<table border=\"1\" class=\"dataframe\">\n",
       "  <thead>\n",
       "    <tr style=\"text-align: right;\">\n",
       "      <th></th>\n",
       "      <th>Product_nm</th>\n",
       "      <th>Rating</th>\n",
       "      <th>Title</th>\n",
       "      <th>Body</th>\n",
       "      <th>Product_cd</th>\n",
       "      <th>Brand</th>\n",
       "    </tr>\n",
       "  </thead>\n",
       "  <tbody>\n",
       "    <tr>\n",
       "      <th>0</th>\n",
       "      <td>삼성 갤럭시 S21 플러스 5G SM-G996B/DS 256GB 8GB RAM 인터...</td>\n",
       "      <td>5.0</td>\n",
       "      <td>Esta hermoso pero no fue compatible con mi ope...</td>\n",
       "      <td>Esta hermoso pero no fue compatible con mi ope...</td>\n",
       "      <td>B08QXW1TXX</td>\n",
       "      <td>Samsung</td>\n",
       "    </tr>\n",
       "    <tr>\n",
       "      <th>1</th>\n",
       "      <td>삼성 갤럭시 S21 플러스 5G SM-G996B/DS 256GB 8GB RAM 인터...</td>\n",
       "      <td>1.0</td>\n",
       "      <td>FALSE ADVERTISEMENT</td>\n",
       "      <td>The phone was advertised as....\"This phone wil...</td>\n",
       "      <td>B08QXW1TXX</td>\n",
       "      <td>Samsung</td>\n",
       "    </tr>\n",
       "    <tr>\n",
       "      <th>2</th>\n",
       "      <td>삼성 갤럭시 S21 플러스 5G SM-G996B/DS 256GB 8GB RAM 인터...</td>\n",
       "      <td>4.0</td>\n",
       "      <td>\"B\" version - not compatible with AT&amp;T</td>\n",
       "      <td>Did not have a chance to use it. Not working w...</td>\n",
       "      <td>B08QXW1TXX</td>\n",
       "      <td>Samsung</td>\n",
       "    </tr>\n",
       "    <tr>\n",
       "      <th>3</th>\n",
       "      <td>삼성 갤럭시 S21 플러스 5G SM-G996B/DS 256GB 8GB RAM 인터...</td>\n",
       "      <td>5.0</td>\n",
       "      <td>So happy with the phone, as good as I expected...</td>\n",
       "      <td>I bought this for my girl, an she is so happy ...</td>\n",
       "      <td>B08QXW1TXX</td>\n",
       "      <td>Samsung</td>\n",
       "    </tr>\n",
       "    <tr>\n",
       "      <th>4</th>\n",
       "      <td>삼성 갤럭시 S21 플러스 5G SM-G996B/DS 256GB 8GB RAM 인터...</td>\n",
       "      <td>1.0</td>\n",
       "      <td>This \"International\" Version is not covered by...</td>\n",
       "      <td>After 5 months, the defective screen just stop...</td>\n",
       "      <td>B08QXW1TXX</td>\n",
       "      <td>Samsung</td>\n",
       "    </tr>\n",
       "  </tbody>\n",
       "</table>\n",
       "</div>"
      ],
      "text/plain": [
       "                                          Product_nm  Rating  \\\n",
       "0  삼성 갤럭시 S21 플러스 5G SM-G996B/DS 256GB 8GB RAM 인터...     5.0   \n",
       "1  삼성 갤럭시 S21 플러스 5G SM-G996B/DS 256GB 8GB RAM 인터...     1.0   \n",
       "2  삼성 갤럭시 S21 플러스 5G SM-G996B/DS 256GB 8GB RAM 인터...     4.0   \n",
       "3  삼성 갤럭시 S21 플러스 5G SM-G996B/DS 256GB 8GB RAM 인터...     5.0   \n",
       "4  삼성 갤럭시 S21 플러스 5G SM-G996B/DS 256GB 8GB RAM 인터...     1.0   \n",
       "\n",
       "                                               Title  \\\n",
       "0  Esta hermoso pero no fue compatible con mi ope...   \n",
       "1                                FALSE ADVERTISEMENT   \n",
       "2             \"B\" version - not compatible with AT&T   \n",
       "3  So happy with the phone, as good as I expected...   \n",
       "4  This \"International\" Version is not covered by...   \n",
       "\n",
       "                                                Body  Product_cd    Brand  \n",
       "0  Esta hermoso pero no fue compatible con mi ope...  B08QXW1TXX  Samsung  \n",
       "1  The phone was advertised as....\"This phone wil...  B08QXW1TXX  Samsung  \n",
       "2  Did not have a chance to use it. Not working w...  B08QXW1TXX  Samsung  \n",
       "3  I bought this for my girl, an she is so happy ...  B08QXW1TXX  Samsung  \n",
       "4  After 5 months, the defective screen just stop...  B08QXW1TXX  Samsung  "
      ]
     },
     "execution_count": 30,
     "metadata": {},
     "output_type": "execute_result"
    }
   ],
   "source": [
    "samsung_df.head()"
   ]
  },
  {
   "cell_type": "code",
   "execution_count": 31,
   "id": "d2c8c7e2",
   "metadata": {},
   "outputs": [
    {
     "data": {
      "text/html": [
       "<div>\n",
       "<style scoped>\n",
       "    .dataframe tbody tr th:only-of-type {\n",
       "        vertical-align: middle;\n",
       "    }\n",
       "\n",
       "    .dataframe tbody tr th {\n",
       "        vertical-align: top;\n",
       "    }\n",
       "\n",
       "    .dataframe thead th {\n",
       "        text-align: right;\n",
       "    }\n",
       "</style>\n",
       "<table border=\"1\" class=\"dataframe\">\n",
       "  <thead>\n",
       "    <tr style=\"text-align: right;\">\n",
       "      <th></th>\n",
       "      <th>Product_nm</th>\n",
       "      <th>Rating</th>\n",
       "      <th>Title</th>\n",
       "      <th>Body</th>\n",
       "      <th>Product_cd</th>\n",
       "      <th>Brand</th>\n",
       "    </tr>\n",
       "  </thead>\n",
       "  <tbody>\n",
       "    <tr>\n",
       "      <th>0</th>\n",
       "      <td>Apple 아이폰 SE, 64GB, 레드 - 풀 언락 (프리미엄 제품)</td>\n",
       "      <td>5.0</td>\n",
       "      <td>Perfect</td>\n",
       "      <td>It was in perfect condition.</td>\n",
       "      <td>B08R988XHQ</td>\n",
       "      <td>Apple</td>\n",
       "    </tr>\n",
       "    <tr>\n",
       "      <th>1</th>\n",
       "      <td>Apple 아이폰 SE, 64GB, 레드 - 풀 언락 (프리미엄 제품)</td>\n",
       "      <td>5.0</td>\n",
       "      <td>Great condition</td>\n",
       "      <td>Great condition and worked nicely as new. Woul...</td>\n",
       "      <td>B08R988XHQ</td>\n",
       "      <td>Apple</td>\n",
       "    </tr>\n",
       "    <tr>\n",
       "      <th>2</th>\n",
       "      <td>Apple 아이폰 SE, 64GB, 레드 - 풀 언락 (프리미엄 제품)</td>\n",
       "      <td>5.0</td>\n",
       "      <td>Just like new</td>\n",
       "      <td>Great phone. Arrived on time. Seems just like ...</td>\n",
       "      <td>B08R988XHQ</td>\n",
       "      <td>Apple</td>\n",
       "    </tr>\n",
       "    <tr>\n",
       "      <th>3</th>\n",
       "      <td>Apple 아이폰 SE, 64GB, 레드 - 풀 언락 (프리미엄 제품)</td>\n",
       "      <td>5.0</td>\n",
       "      <td>THE PHONE WAS PERFECT</td>\n",
       "      <td>Absolutely perfect!</td>\n",
       "      <td>B08R988XHQ</td>\n",
       "      <td>Apple</td>\n",
       "    </tr>\n",
       "    <tr>\n",
       "      <th>4</th>\n",
       "      <td>Apple 아이폰 SE, 64GB, 레드 - 풀 언락 (프리미엄 제품)</td>\n",
       "      <td>5.0</td>\n",
       "      <td>Great Phone</td>\n",
       "      <td>Installed my sim chip and easily restored phon...</td>\n",
       "      <td>B08R988XHQ</td>\n",
       "      <td>Apple</td>\n",
       "    </tr>\n",
       "  </tbody>\n",
       "</table>\n",
       "</div>"
      ],
      "text/plain": [
       "                                Product_nm  Rating                  Title  \\\n",
       "0  Apple 아이폰 SE, 64GB, 레드 - 풀 언락 (프리미엄 제품)     5.0                Perfect   \n",
       "1  Apple 아이폰 SE, 64GB, 레드 - 풀 언락 (프리미엄 제품)     5.0        Great condition   \n",
       "2  Apple 아이폰 SE, 64GB, 레드 - 풀 언락 (프리미엄 제품)     5.0          Just like new   \n",
       "3  Apple 아이폰 SE, 64GB, 레드 - 풀 언락 (프리미엄 제품)     5.0  THE PHONE WAS PERFECT   \n",
       "4  Apple 아이폰 SE, 64GB, 레드 - 풀 언락 (프리미엄 제품)     5.0            Great Phone   \n",
       "\n",
       "                                                Body  Product_cd  Brand  \n",
       "0                       It was in perfect condition.  B08R988XHQ  Apple  \n",
       "1  Great condition and worked nicely as new. Woul...  B08R988XHQ  Apple  \n",
       "2  Great phone. Arrived on time. Seems just like ...  B08R988XHQ  Apple  \n",
       "3                                Absolutely perfect!  B08R988XHQ  Apple  \n",
       "4  Installed my sim chip and easily restored phon...  B08R988XHQ  Apple  "
      ]
     },
     "execution_count": 31,
     "metadata": {},
     "output_type": "execute_result"
    }
   ],
   "source": [
    "apple_df.head()"
   ]
  },
  {
   "cell_type": "code",
   "execution_count": 32,
   "id": "ac447033",
   "metadata": {},
   "outputs": [],
   "source": [
    "smartphone = pd.concat([samsung_df,apple_df])\n",
    "smartphone = smartphone.drop_duplicates()\n",
    "smartphone.to_csv('smartphone.csv', index = False)"
   ]
  },
  {
   "cell_type": "code",
   "execution_count": 33,
   "id": "b86b2ddc",
   "metadata": {},
   "outputs": [
    {
     "data": {
      "text/plain": [
       "105637"
      ]
     },
     "execution_count": 33,
     "metadata": {},
     "output_type": "execute_result"
    }
   ],
   "source": [
    "len(smartphone)"
   ]
  },
  {
   "cell_type": "markdown",
   "id": "c251de82",
   "metadata": {},
   "source": [
    "### 모든 상품코드가 반영됐는지 검증"
   ]
  },
  {
   "cell_type": "code",
   "execution_count": null,
   "id": "ce71e4b3",
   "metadata": {},
   "outputs": [],
   "source": [
    "# 삼성 갤럭시폰\n",
    "print(len(samsung_prod_cd) == len(samsung_df_out_cd) + len(samsung_df_in_cd))\n",
    "print('전체 코드 :', len(samsung_prod_cd) )\n",
    "print('적재된 코드 : ',len(samsung_df_out_cd) + len(samsung_df_in_cd))"
   ]
  },
  {
   "cell_type": "code",
   "execution_count": null,
   "id": "5957a30b",
   "metadata": {},
   "outputs": [],
   "source": [
    "# 애플 아이폰\n",
    "len(apple_prod_cd) == len(apple_df_out_cd) + len(apple_df_in_cd)\n",
    "print('전체 코드 :', len(apple_prod_cd) )\n",
    "print('적재된 코드 : ',len(apple_df_out_cd) + len(apple_df_in_cd))"
   ]
  },
  {
   "cell_type": "markdown",
   "id": "e2d408b7",
   "metadata": {},
   "source": [
    "### csv 적재 쿼리 오류 발생"
   ]
  },
  {
   "cell_type": "markdown",
   "id": "429d4775",
   "metadata": {},
   "source": [
    "#### 주피터 노트북은 켜져 있으나 코드 실행이 취소된 경우 OR 전체코드에 비하여 적재된 코드가 적을 경우"
   ]
  },
  {
   "cell_type": "code",
   "execution_count": 38,
   "id": "58449733",
   "metadata": {},
   "outputs": [],
   "source": [
    "# 삼성 갤럭시폰\n",
    "# CSV 코드 - 적재, 미적재 코드 합치기\n",
    "samsung_prod_cd_2 = samsung_df_out_cd + samsung_df_in_cd\n",
    "empty_cd = []\n",
    "\n",
    "# 모든 코드 - CSV 코드\n",
    "for i in samsung_prod_cd:\n",
    "    if i in samsung_prod_cd_2 :\n",
    "        pass\n",
    "    else :\n",
    "        empty_cd.append(i)\n",
    "\n",
    "samsung_prod_cd = empty_cd\n",
    "# -> 다시 삼성 리뷰 적재 코드로"
   ]
  },
  {
   "cell_type": "code",
   "execution_count": null,
   "id": "6a508e5a",
   "metadata": {},
   "outputs": [],
   "source": [
    "# 애플 아이폰\n",
    "# CSV 코드 - 적재, 미적재 코드 합치기\n",
    "apple_prod_cd_2 = samsung_df_out_cd + samsung_df_in_cd\n",
    "empty_cd = []\n",
    "\n",
    "# 모든 코드 - CSV 코드\n",
    "for i in apple_prod_cd:\n",
    "    if i in apple_prod_cd_2 :\n",
    "        pass\n",
    "    else :\n",
    "        empty_cd.append(i)\n",
    "        \n",
    "apple_prod_cd = empty_cd\n",
    "# -> 다시 애플 리뷰 적재 코드로"
   ]
  },
  {
   "cell_type": "markdown",
   "id": "80c5b706",
   "metadata": {},
   "source": [
    "#### 주피터 노트북이 꺼질 경우"
   ]
  },
  {
   "cell_type": "code",
   "execution_count": 26,
   "id": "2e9be44e",
   "metadata": {},
   "outputs": [],
   "source": [
    "# 삼성 갤럭시폰\n",
    "samsung_df = pd.read_csv('samsung_df.csv', encoding = 'utf-8-sig')\n",
    "samsung_prod_cd_2 = samsung_df['Product_cd']\n",
    "empty_cd = []\n",
    "\n",
    "# 모든 코드 - CSV 코드\n",
    "for i in samsung_prod_cd:\n",
    "    if i in samsung_prod_cd_2 :\n",
    "        pass\n",
    "    else :\n",
    "        empty_cd.append(i)\n",
    "\n",
    "samsung_prod_cd = empty_cd\n",
    "# -> 다시 삼성 리뷰 적재 코드로"
   ]
  },
  {
   "cell_type": "code",
   "execution_count": 27,
   "id": "0f74568f",
   "metadata": {},
   "outputs": [],
   "source": [
    "# 애플 아이폰\n",
    "apple_df = pd.read_csv('apple_df.csv', encoding = 'utf-8-sig')\n",
    "apple_prod_cd_2 = apple_df['Product_cd']\n",
    "empty_cd = []\n",
    "\n",
    "# 모든 코드 - CSV 코드\n",
    "for i in apple_prod_cd:\n",
    "    if i in apple_prod_cd_2 :\n",
    "        pass\n",
    "    else :\n",
    "        empty_cd.append(i)\n",
    "        \n",
    "apple_prod_cd = empty_cd\n",
    "# -> 다시 애플 리뷰 적재 코드로"
   ]
  }
 ],
 "metadata": {
  "kernelspec": {
   "display_name": "Python 3",
   "language": "python",
   "name": "python3"
  },
  "language_info": {
   "codemirror_mode": {
    "name": "ipython",
    "version": 3
   },
   "file_extension": ".py",
   "mimetype": "text/x-python",
   "name": "python",
   "nbconvert_exporter": "python",
   "pygments_lexer": "ipython3",
   "version": "3.8.8"
  }
 },
 "nbformat": 4,
 "nbformat_minor": 5
}
